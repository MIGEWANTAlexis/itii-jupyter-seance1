{
 "cells": [
  {
   "cell_type": "code",
   "execution_count": null,
   "metadata": {},
   "outputs": [],
   "source": []
  },
  {
   "cell_type": "code",
   "execution_count": 9,
   "metadata": {},
   "outputs": [
    {
     "name": "stdout",
     "output_type": "stream",
     "text": [
      "Entrer le rayon : 14.5\n",
      "Entrer la hauteur : 50\n",
      "11008.664256954233\n"
     ]
    }
   ],
   "source": [
    "## exo 1\n",
    "from math import *\n",
    "\n",
    "rayon = float(input(\"Entrer le rayon : \"))\n",
    "hauteur = float(input(\"Entrer la hauteur : \"))\n",
    "\n",
    "volume_cone_droit = pi*rayon**2*hauteur/3\n",
    "\n",
    "print(volume_cone_droit)"
   ]
  },
  {
   "cell_type": "code",
   "execution_count": 30,
   "metadata": {},
   "outputs": [
    {
     "name": "stdout",
     "output_type": "stream",
     "text": [
      "Entrer le nombre de repetition : 3\n",
      "somme cubique = 36\n"
     ]
    }
   ],
   "source": [
    "## exo 2.1\n",
    "repetition = int(input(\"Entrer le nombre de repetition : \"))\n",
    "\n",
    "res = 0\n",
    "for i in range(1,repetition+1):\n",
    "    res += i**3\n",
    "print(\"somme cubique = \" + str(res))"
   ]
  },
  {
   "cell_type": "code",
   "execution_count": 29,
   "metadata": {},
   "outputs": [
    {
     "name": "stdout",
     "output_type": "stream",
     "text": [
      "Entrer le nombre de repetition : 3\n",
      "somme = 6\n"
     ]
    }
   ],
   "source": [
    "## exo 2.2\n",
    "repetition = int(input(\"Entrer le nombre de repetition : \"))\n",
    "\n",
    "res = 0\n",
    "for i in range(1,repetition+1):\n",
    "    res += i\n",
    "print(\"somme = \" + str(res))"
   ]
  },
  {
   "cell_type": "code",
   "execution_count": 28,
   "metadata": {},
   "outputs": [
    {
     "name": "stdout",
     "output_type": "stream",
     "text": [
      "300\n"
     ]
    }
   ],
   "source": [
    "## exo 3.1\n",
    "\n",
    "res = 0\n",
    "for i in range(1,1000):\n",
    "    res += str(i).count(\"1\")\n",
    "print(res)"
   ]
  },
  {
   "cell_type": "code",
   "execution_count": 35,
   "metadata": {},
   "outputs": [
    {
     "name": "stdout",
     "output_type": "stream",
     "text": [
      "Entrer un nombre entier : 8\n",
      "8.0\n"
     ]
    }
   ],
   "source": [
    "## exo 3.2\n",
    "\n",
    "entier = int(input(\"Entrer un nombre entier : \"))\n",
    "decimal = float(entier)\n",
    "\n",
    "print(decimal)"
   ]
  },
  {
   "cell_type": "code",
   "execution_count": 42,
   "metadata": {},
   "outputs": [
    {
     "name": "stdout",
     "output_type": "stream",
     "text": [
      "3.140431404314043\n"
     ]
    }
   ],
   "source": [
    "## exo 4\n",
    "from random import random\n",
    "\n",
    "nb = 99999\n",
    "compteur = 0\n",
    "\n",
    "for i in range(nb):\n",
    "    x = random()\n",
    "    y = random()\n",
    "    r = x**2+y**2\n",
    "    if r < 1:\n",
    "        compteur = compteur + 1\n",
    "        \n",
    "pi = 4 * compteur / nb\n",
    "\n",
    "print(pi)"
   ]
  },
  {
   "cell_type": "code",
   "execution_count": null,
   "metadata": {},
   "outputs": [],
   "source": []
  },
  {
   "cell_type": "code",
   "execution_count": null,
   "metadata": {},
   "outputs": [],
   "source": []
  }
 ],
 "metadata": {
  "kernelspec": {
   "display_name": "Python 3",
   "language": "python",
   "name": "python3"
  },
  "language_info": {
   "codemirror_mode": {
    "name": "ipython",
    "version": 3
   },
   "file_extension": ".py",
   "mimetype": "text/x-python",
   "name": "python",
   "nbconvert_exporter": "python",
   "pygments_lexer": "ipython3",
   "version": "3.7.6"
  }
 },
 "nbformat": 4,
 "nbformat_minor": 4
}
